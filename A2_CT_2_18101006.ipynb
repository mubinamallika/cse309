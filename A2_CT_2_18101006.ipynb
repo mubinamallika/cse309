{
  "nbformat": 4,
  "nbformat_minor": 0,
  "metadata": {
    "colab": {
      "name": "A2_CT_2_18101006.ipynb",
      "provenance": [],
      "collapsed_sections": [],
      "authorship_tag": "ABX9TyM32cqz00yPRQa71XCFog0O",
      "include_colab_link": true
    },
    "kernelspec": {
      "name": "python3",
      "display_name": "Python 3"
    }
  },
  "cells": [
    {
      "cell_type": "markdown",
      "metadata": {
        "id": "view-in-github",
        "colab_type": "text"
      },
      "source": [
        "<a href=\"https://colab.research.google.com/github/mubinamallika/cse309/blob/master/A2_CT_2_18101006.ipynb\" target=\"_parent\"><img src=\"https://colab.research.google.com/assets/colab-badge.svg\" alt=\"Open In Colab\"/></a>"
      ]
    },
    {
      "cell_type": "code",
      "metadata": {
        "id": "DCJKN91LbZIc",
        "colab_type": "code",
        "colab": {}
      },
      "source": [
        ""
      ],
      "execution_count": null,
      "outputs": []
    },
    {
      "cell_type": "markdown",
      "metadata": {
        "id": "tlyrUdLHbfxE",
        "colab_type": "text"
      },
      "source": [
        "1)Write a python code to determine odd or even.\t"
      ]
    },
    {
      "cell_type": "code",
      "metadata": {
        "id": "OfKyGWrDfM00",
        "colab_type": "code",
        "colab": {
          "base_uri": "https://localhost:8080/",
          "height": 51
        },
        "outputId": "b2a4a97e-e639-4586-ff6f-0e722deca01d"
      },
      "source": [
        "x=int(input())\n",
        "\n",
        "if (x%2)==0 :\n",
        "  print(\"even\")\n",
        "else:\n",
        "  print(\"odd\") "
      ],
      "execution_count": null,
      "outputs": [
        {
          "output_type": "stream",
          "text": [
            "19\n",
            "odd\n"
          ],
          "name": "stdout"
        }
      ]
    },
    {
      "cell_type": "markdown",
      "metadata": {
        "id": "eOmdZfwYfm33",
        "colab_type": "text"
      },
      "source": [
        "2) Write a python program to calculate the letter grade of an H.S.C exam. The exam mark will be given as input. Follow the standard rule for grading.\t"
      ]
    },
    {
      "cell_type": "code",
      "metadata": {
        "id": "f_CazgbJfqlk",
        "colab_type": "code",
        "colab": {
          "base_uri": "https://localhost:8080/",
          "height": 51
        },
        "outputId": "303d1fb3-8fd9-4857-e623-f789236fbaf2"
      },
      "source": [
        "a = float(input())\n",
        "\n",
        "if a>=80 and a<=100 :\n",
        "  print(\"A+\")\n",
        "elif a>=70 and a<=79 :\n",
        "  print(\"A\")\n",
        "elif a>=60 and a<=69 :\n",
        "  print(\"A-\") \n",
        "elif a>=50 and a<=59 :\n",
        "  print(\"B\") \n",
        "elif a>=40 and a<=49 :\n",
        "  print(\"C\")\n",
        "elif a>=33 and a<=39 :\n",
        "  print(\"D\") \n",
        "else :  \n",
        "  print(\"Fail\")    \n",
        "\n",
        "\n"
      ],
      "execution_count": null,
      "outputs": [
        {
          "output_type": "stream",
          "text": [
            "89\n",
            "A+\n"
          ],
          "name": "stdout"
        }
      ]
    },
    {
      "cell_type": "code",
      "metadata": {
        "id": "guac7xAJhFFZ",
        "colab_type": "code",
        "colab": {}
      },
      "source": [
        ""
      ],
      "execution_count": null,
      "outputs": []
    },
    {
      "cell_type": "markdown",
      "metadata": {
        "id": "Q-ZVGtIfiTjp",
        "colab_type": "text"
      },
      "source": [
        "4)Choose variables of appropriate data type to store the information of the following table in a way that if someone inputs the ID, it will show all the information of that student.  \n",
        "\t\n"
      ]
    },
    {
      "cell_type": "code",
      "metadata": {
        "id": "XwzJxQAYiY8N",
        "colab_type": "code",
        "colab": {}
      },
      "source": [
        "d = {\n",
        "    1 : {\n",
        "        \"first name\" : \"Peter\",\n",
        "         \"last name\" : \"Lee\",\n",
        "         \"email\" : \"plee@university.edu\",\n",
        "         \"year_of_birth\" : 1992\n",
        "    },\n",
        "     \n",
        "     2 : {\n",
        "         \"first name\" : \"Jonathan\",\n",
        "         \"last name\" : \"Edwards\",\n",
        "         \"email\" : \"jedwards@university.edu\",\n",
        "         \"year_of_birth\" : 1994\n",
        "     },\n",
        "     3 :\n",
        "     {\n",
        "         \"first name\" : \"Marilyn\",\n",
        "         \"last name\" : \"Johnson\",\n",
        "         \"email\" : \"mjohnson@university.edu\",\n",
        "         \"year_of_birth\" : 1993\n",
        "     },\n",
        "     6 :\n",
        "     {\n",
        "         \"first name\" : \"Joe\",\n",
        "         \"last name\" : \"Kim\",\n",
        "         \"email\" : \"jkim@university.edu\",\n",
        "         \"year_of_birth\" : 1992\n",
        "     },\n",
        "     12 :\n",
        "     {\n",
        "         \"first name\" : \"Heley\",\n",
        "         \"last name\" : \"Martinez\",\n",
        "         \"email\" : \"hmartinez@university.edu\",\n",
        "         \"year_of_birth\" : 1993\n",
        "     }\n",
        "\n",
        "}"
      ],
      "execution_count": null,
      "outputs": []
    },
    {
      "cell_type": "code",
      "metadata": {
        "id": "MufU98bHkn2f",
        "colab_type": "code",
        "colab": {
          "base_uri": "https://localhost:8080/",
          "height": 85
        },
        "outputId": "9233abe3-921f-4327-d78d-2283c91fadc5"
      },
      "source": [
        "d[12]"
      ],
      "execution_count": null,
      "outputs": [
        {
          "output_type": "execute_result",
          "data": {
            "text/plain": [
              "{'email': 'hmartinez@university.edu',\n",
              " 'first name': 'Heley',\n",
              " 'last name': 'Martinez',\n",
              " 'year_of_birth': 1993}"
            ]
          },
          "metadata": {
            "tags": []
          },
          "execution_count": 14
        }
      ]
    },
    {
      "cell_type": "code",
      "metadata": {
        "id": "bUiYBIWqkO7E",
        "colab_type": "code",
        "colab": {}
      },
      "source": [
        ""
      ],
      "execution_count": null,
      "outputs": []
    }
  ]
}