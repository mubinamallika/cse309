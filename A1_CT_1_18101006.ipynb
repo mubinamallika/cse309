{
  "nbformat": 4,
  "nbformat_minor": 0,
  "metadata": {
    "colab": {
      "name": "A1_CT_1_18101006.ipynb",
      "provenance": [],
      "authorship_tag": "ABX9TyMledkevQF5Gx0zTnByUge0",
      "include_colab_link": true
    },
    "kernelspec": {
      "name": "python3",
      "display_name": "Python 3"
    }
  },
  "cells": [
    {
      "cell_type": "markdown",
      "metadata": {
        "id": "view-in-github",
        "colab_type": "text"
      },
      "source": [
        "<a href=\"https://colab.research.google.com/github/mubinamallika/cse309/blob/master/A1_CT_1_18101006.ipynb\" target=\"_parent\"><img src=\"https://colab.research.google.com/assets/colab-badge.svg\" alt=\"Open In Colab\"/></a>"
      ]
    },
    {
      "cell_type": "code",
      "metadata": {
        "id": "rtRdcV3Rkihp",
        "colab_type": "code",
        "colab": {}
      },
      "source": [
        ""
      ],
      "execution_count": null,
      "outputs": []
    },
    {
      "cell_type": "markdown",
      "metadata": {
        "id": "vE86m8g2nUOt",
        "colab_type": "text"
      },
      "source": [
        "**Write a python program to calculate compound interest.**"
      ]
    },
    {
      "cell_type": "code",
      "metadata": {
        "id": "tWEEwgCknZQV",
        "colab_type": "code",
        "colab": {
          "base_uri": "https://localhost:8080/",
          "height": 85
        },
        "outputId": "cd6841ab-c326-4ed3-ad88-cb865fd52117"
      },
      "source": [
        "P=float(input(\"Principle (amount): \"))\n",
        "T=int(input(\"Time: \"))\n",
        "R=float(input(\"Rate: \"))\n",
        "Compound_Interest = P*(1 + R/100)**T\n",
        "print(\"Compound Interest= \",Compound_Interest)"
      ],
      "execution_count": null,
      "outputs": [
        {
          "output_type": "stream",
          "text": [
            "Principle (amount): 1200\n",
            "Time: 2\n",
            "Rate: 5.4\n",
            "Compound Interest=  1333.0992\n"
          ],
          "name": "stdout"
        }
      ]
    },
    {
      "cell_type": "markdown",
      "metadata": {
        "id": "rLsJfTaKorTr",
        "colab_type": "text"
      },
      "source": [
        "**2) Write a python program to calculate the surface area and volume of a cylinder.** "
      ]
    },
    {
      "cell_type": "code",
      "metadata": {
        "id": "OWlJ9fMaozss",
        "colab_type": "code",
        "colab": {
          "base_uri": "https://localhost:8080/",
          "height": 85
        },
        "outputId": "12791478-6007-4c1c-ec4a-45eea4d35e1a"
      },
      "source": [
        "r=float(input(\"r = \"))\n",
        "h=float(input(\"h = \"))\n",
        "pi=3.1416\n",
        "V=pi*h*r**2\n",
        "S=(2*pi*r**2)+2*pi*r*h \n",
        "print(\"Surface area: \",S ,\"square units\")\n",
        "print(\"Volume: \",V ,\"cube units\")"
      ],
      "execution_count": null,
      "outputs": [
        {
          "output_type": "stream",
          "text": [
            "r = 10\n",
            "h = 5\n",
            "Surface area:  942.48 square units\n",
            "Volume:  1570.8 cube units\n"
          ],
          "name": "stdout"
        }
      ]
    },
    {
      "cell_type": "markdown",
      "metadata": {
        "id": "Zb4tr4y0qu9L",
        "colab_type": "text"
      },
      "source": [
        "**3) Write a python program to calculate the volume and surface area of Cone.**\t[10]\n",
        " \n"
      ]
    },
    {
      "cell_type": "code",
      "metadata": {
        "id": "N0e9awLOrAQD",
        "colab_type": "code",
        "colab": {
          "base_uri": "https://localhost:8080/",
          "height": 85
        },
        "outputId": "20389fda-c5ba-4236-86d4-2fc129be5c1c"
      },
      "source": [
        "r=float(input(\"radius = \"))\n",
        "h=float(input(\"height = \"))\n",
        "pi=3.1416\n",
        "volume=(1/3)*pi*h*r**2\n",
        "Surface_area=pi*r*h + pi*r**2\n",
        "print(\"volume of the cone: \",volume)\n",
        "print(\"Surface area: \",Surface_area)"
      ],
      "execution_count": null,
      "outputs": [
        {
          "output_type": "stream",
          "text": [
            "radius = 5\n",
            "height = 15\n",
            "volume of the cone:  392.69999999999993\n",
            "Surface area:  314.15999999999997\n"
          ],
          "name": "stdout"
        }
      ]
    },
    {
      "cell_type": "markdown",
      "metadata": {
        "id": "rSbJ0TTbsIdr",
        "colab_type": "text"
      },
      "source": [
        "**4) Write a python program to calculate the volume and surface area of Sphere. **\t\n",
        "\n"
      ]
    },
    {
      "cell_type": "code",
      "metadata": {
        "id": "x6H2dzy7sSQh",
        "colab_type": "code",
        "colab": {
          "base_uri": "https://localhost:8080/",
          "height": 68
        },
        "outputId": "3a24382d-ba47-4382-f779-783749713944"
      },
      "source": [
        "r=float(input(\"radius = \"))\n",
        "volume=(4/3)*3.1416*r**3\n",
        "surface_area=4*3.1416*r**2\n",
        "print(\" Volume of the Sphere: \",volume)\n",
        "print(\"surface area: \",surface_area)"
      ],
      "execution_count": null,
      "outputs": [
        {
          "output_type": "stream",
          "text": [
            "radius = 6\n",
            " Volume of the  Sphere:  904.7807999999999\n",
            "surface area:  452.3904\n"
          ],
          "name": "stdout"
        }
      ]
    },
    {
      "cell_type": "markdown",
      "metadata": {
        "id": "_M7zxGmykz2F",
        "colab_type": "text"
      },
      "source": [
        ""
      ]
    }
  ]
}